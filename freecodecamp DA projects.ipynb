{
 "cells": [
  {
   "cell_type": "markdown",
   "id": "c0ca849f",
   "metadata": {},
   "source": [
    "# Mean_var_std"
   ]
  },
  {
   "cell_type": "code",
   "execution_count": 61,
   "id": "3be6b413",
   "metadata": {},
   "outputs": [],
   "source": [
    "import pandas as pd\n",
    "import numpy as np\n",
    "import matplotlib.pyplot as plt\n",
    "import seaborn as sns"
   ]
  },
  {
   "cell_type": "code",
   "execution_count": 52,
   "id": "c0335fe7",
   "metadata": {},
   "outputs": [
    {
     "name": "stdout",
     "output_type": "stream",
     "text": [
      "Mean: [3. 4. 5.] [1. 4. 7.] 4.0\n",
      "Varience: [6. 6. 6.] [0.66666667 0.66666667 0.66666667] 6.666666666666667\n",
      "Standard Deviation: [2.44948974 2.44948974 2.44948974] [0.81649658 0.81649658 0.81649658] 2.581988897471611\n",
      "Max: [6 7 8] [2 5 8] 8\n",
      "Min: [0 1 2] [0 3 6] 0\n",
      "Sum: [ 9 12 15] [0 3 6] 36\n"
     ]
    }
   ],
   "source": [
    "calculate=np.array([0,1,2,3,4,5,6,7,8])\n",
    "if len(calculate)<9:\n",
    "    print(\"List must contains nine numbers\")\n",
    "else:\n",
    "    a=np.reshape(calculate,(3,3))\n",
    "    print(\"Mean:\",np.mean(a,axis=0),np.mean(a,axis=1),np.mean(a))\n",
    "    print(\"Varience:\",np.var(a,axis=0),np.var(a,axis=1),np.var(a))\n",
    "    print(\"Standard Deviation:\",np.std(a,axis=0),np.std(a,axis=1),np.std(a))\n",
    "    print(\"Max:\",np.max(a,axis=0),np.max(a,axis=1),np.max(a))\n",
    "    print(\"Min:\",np.min(a,axis=0),np.min(a,axis=1),np.min(a))\n",
    "    print(\"Sum:\",np.sum(a,axis=0),np.min(a,axis=1),np.sum(a))"
   ]
  },
  {
   "cell_type": "markdown",
   "id": "c4aae943",
   "metadata": {},
   "source": [
    "# Demographic_data_analyzer"
   ]
  },
  {
   "cell_type": "code",
   "execution_count": 10,
   "id": "3e4e4cfb",
   "metadata": {},
   "outputs": [],
   "source": [
    "df=pd.DataFrame({\n",
    "    'age':[39,50,38,53,28],\n",
    "    'Work Class':[\n",
    "        'State-gov',\n",
    "        'Self-emp-not-inc',\n",
    "        'Private',\n",
    "        'Private',\n",
    "        'Private'\n",
    "    ],\n",
    "    'fnlwgt':[\n",
    "        77516,\n",
    "        83311,\n",
    "        215646,\n",
    "        234721,\n",
    "        338409\n",
    "    ],\n",
    "    'education':[\n",
    "        'Bachelors',\n",
    "        'Bachelors',\n",
    "        'HS-grade',\n",
    "        '11th',\n",
    "        'Bachelors'\n",
    "    ],\n",
    "    'education-num':[13,13,9,7,13],\n",
    "    'material-status':[\n",
    "        'Never-married',\n",
    "        'Married-civ-spouse',\n",
    "        'Divorced',\n",
    "        'Married-civ-spouse',\n",
    "        'Married-civ-spouse'\n",
    "    ],\n",
    "    'occupation':[\n",
    "        'Adm-clerical',\n",
    "        'Exec-managerial',\n",
    "        'Handlers-cleaners',\n",
    "        'Handlers-cleaners',\n",
    "        'Prof-specialty'\n",
    "    ],\n",
    "    'relationship':[\n",
    "        'Not-in-family',\n",
    "        'Husband',\n",
    "        'Not-in-family',\n",
    "        'Husband',\n",
    "        'Wife'\n",
    "    ],\n",
    "    'race':[\n",
    "        'White',\n",
    "        'White',\n",
    "        'White',\n",
    "        'Black',\n",
    "        'Black'\n",
    "    ],\n",
    "    'sex':[\n",
    "        'Male',\n",
    "        'Male',\n",
    "        'Male',\n",
    "        'Male',\n",
    "        'Female'\n",
    "    ],\n",
    "    'capital-gain':[2174,0,0,0,0],\n",
    "    'capital-loss':[0,0,0,0,0],\n",
    "    'hours-per-week':[40,13,40,40,40],\n",
    "    'native-country':[\n",
    "        'United-States',\n",
    "        'United-States',\n",
    "        'United-States',\n",
    "        'United-States',\n",
    "        'Cuba'\n",
    "    ],\n",
    "    'Salary':[\n",
    "        '<=50K',\n",
    "        '<=50K',\n",
    "        '<=50K',\n",
    "        '<=50K',\n",
    "        '<=50K',\n",
    "    ]\n",
    "},columns=['age','Work Class','fnlwgt','education','education-num','material-status','occupation','relationship','race','sex','capital-gain','capital-loss','hours-per-week','native-country','Salary'])"
   ]
  },
  {
   "cell_type": "code",
   "execution_count": 11,
   "id": "33858a82",
   "metadata": {
    "scrolled": true
   },
   "outputs": [
    {
     "data": {
      "text/html": [
       "<div>\n",
       "<style scoped>\n",
       "    .dataframe tbody tr th:only-of-type {\n",
       "        vertical-align: middle;\n",
       "    }\n",
       "\n",
       "    .dataframe tbody tr th {\n",
       "        vertical-align: top;\n",
       "    }\n",
       "\n",
       "    .dataframe thead th {\n",
       "        text-align: right;\n",
       "    }\n",
       "</style>\n",
       "<table border=\"1\" class=\"dataframe\">\n",
       "  <thead>\n",
       "    <tr style=\"text-align: right;\">\n",
       "      <th></th>\n",
       "      <th>age</th>\n",
       "      <th>Work Class</th>\n",
       "      <th>fnlwgt</th>\n",
       "      <th>education</th>\n",
       "      <th>education-num</th>\n",
       "      <th>material-status</th>\n",
       "      <th>occupation</th>\n",
       "      <th>relationship</th>\n",
       "      <th>race</th>\n",
       "      <th>sex</th>\n",
       "      <th>capital-gain</th>\n",
       "      <th>capital-loss</th>\n",
       "      <th>hours-per-week</th>\n",
       "      <th>native-country</th>\n",
       "      <th>Salary</th>\n",
       "    </tr>\n",
       "  </thead>\n",
       "  <tbody>\n",
       "    <tr>\n",
       "      <th>0</th>\n",
       "      <td>39</td>\n",
       "      <td>State-gov</td>\n",
       "      <td>77516</td>\n",
       "      <td>Bachelors</td>\n",
       "      <td>13</td>\n",
       "      <td>Never-married</td>\n",
       "      <td>Adm-clerical</td>\n",
       "      <td>Not-in-family</td>\n",
       "      <td>White</td>\n",
       "      <td>Male</td>\n",
       "      <td>2174</td>\n",
       "      <td>0</td>\n",
       "      <td>40</td>\n",
       "      <td>United-States</td>\n",
       "      <td>&lt;=50K</td>\n",
       "    </tr>\n",
       "    <tr>\n",
       "      <th>1</th>\n",
       "      <td>50</td>\n",
       "      <td>Self-emp-not-inc</td>\n",
       "      <td>83311</td>\n",
       "      <td>Bachelors</td>\n",
       "      <td>13</td>\n",
       "      <td>Married-civ-spouse</td>\n",
       "      <td>Exec-managerial</td>\n",
       "      <td>Husband</td>\n",
       "      <td>White</td>\n",
       "      <td>Male</td>\n",
       "      <td>0</td>\n",
       "      <td>0</td>\n",
       "      <td>13</td>\n",
       "      <td>United-States</td>\n",
       "      <td>&lt;=50K</td>\n",
       "    </tr>\n",
       "    <tr>\n",
       "      <th>2</th>\n",
       "      <td>38</td>\n",
       "      <td>Private</td>\n",
       "      <td>215646</td>\n",
       "      <td>HS-grade</td>\n",
       "      <td>9</td>\n",
       "      <td>Divorced</td>\n",
       "      <td>Handlers-cleaners</td>\n",
       "      <td>Not-in-family</td>\n",
       "      <td>White</td>\n",
       "      <td>Male</td>\n",
       "      <td>0</td>\n",
       "      <td>0</td>\n",
       "      <td>40</td>\n",
       "      <td>United-States</td>\n",
       "      <td>&lt;=50K</td>\n",
       "    </tr>\n",
       "    <tr>\n",
       "      <th>3</th>\n",
       "      <td>53</td>\n",
       "      <td>Private</td>\n",
       "      <td>234721</td>\n",
       "      <td>11th</td>\n",
       "      <td>7</td>\n",
       "      <td>Married-civ-spouse</td>\n",
       "      <td>Handlers-cleaners</td>\n",
       "      <td>Husband</td>\n",
       "      <td>Black</td>\n",
       "      <td>Male</td>\n",
       "      <td>0</td>\n",
       "      <td>0</td>\n",
       "      <td>40</td>\n",
       "      <td>United-States</td>\n",
       "      <td>&lt;=50K</td>\n",
       "    </tr>\n",
       "    <tr>\n",
       "      <th>4</th>\n",
       "      <td>28</td>\n",
       "      <td>Private</td>\n",
       "      <td>338409</td>\n",
       "      <td>Bachelors</td>\n",
       "      <td>13</td>\n",
       "      <td>Married-civ-spouse</td>\n",
       "      <td>Prof-specialty</td>\n",
       "      <td>Wife</td>\n",
       "      <td>Black</td>\n",
       "      <td>Female</td>\n",
       "      <td>0</td>\n",
       "      <td>0</td>\n",
       "      <td>40</td>\n",
       "      <td>Cuba</td>\n",
       "      <td>&lt;=50K</td>\n",
       "    </tr>\n",
       "  </tbody>\n",
       "</table>\n",
       "</div>"
      ],
      "text/plain": [
       "   age        Work Class  fnlwgt  education  education-num  \\\n",
       "0   39         State-gov   77516  Bachelors             13   \n",
       "1   50  Self-emp-not-inc   83311  Bachelors             13   \n",
       "2   38           Private  215646   HS-grade              9   \n",
       "3   53           Private  234721       11th              7   \n",
       "4   28           Private  338409  Bachelors             13   \n",
       "\n",
       "      material-status         occupation   relationship   race     sex  \\\n",
       "0       Never-married       Adm-clerical  Not-in-family  White    Male   \n",
       "1  Married-civ-spouse    Exec-managerial        Husband  White    Male   \n",
       "2            Divorced  Handlers-cleaners  Not-in-family  White    Male   \n",
       "3  Married-civ-spouse  Handlers-cleaners        Husband  Black    Male   \n",
       "4  Married-civ-spouse     Prof-specialty           Wife  Black  Female   \n",
       "\n",
       "   capital-gain  capital-loss  hours-per-week native-country Salary  \n",
       "0          2174             0              40  United-States  <=50K  \n",
       "1             0             0              13  United-States  <=50K  \n",
       "2             0             0              40  United-States  <=50K  \n",
       "3             0             0              40  United-States  <=50K  \n",
       "4             0             0              40           Cuba  <=50K  "
      ]
     },
     "execution_count": 11,
     "metadata": {},
     "output_type": "execute_result"
    }
   ],
   "source": [
    "df"
   ]
  },
  {
   "cell_type": "code",
   "execution_count": 13,
   "id": "5e7b3191",
   "metadata": {},
   "outputs": [
    {
     "data": {
      "text/plain": [
       "race\n",
       "Black    2\n",
       "White    3\n",
       "Name: race, dtype: int64"
      ]
     },
     "execution_count": 13,
     "metadata": {},
     "output_type": "execute_result"
    }
   ],
   "source": [
    "#How many people of each race are represented in this dataset?\n",
    "racecount=df.groupby('race')\n",
    "racecount['race'].count()"
   ]
  },
  {
   "cell_type": "code",
   "execution_count": 17,
   "id": "273fb8cd",
   "metadata": {},
   "outputs": [
    {
     "data": {
      "text/plain": [
       "45.0"
      ]
     },
     "execution_count": 17,
     "metadata": {},
     "output_type": "execute_result"
    }
   ],
   "source": [
    "#What is the average age of men?\n",
    "avg_age_men=df[df['sex']=='Male']['age'].mean()\n",
    "avg_age_men"
   ]
  },
  {
   "cell_type": "code",
   "execution_count": 34,
   "id": "3f80d2a8",
   "metadata": {},
   "outputs": [
    {
     "data": {
      "text/plain": [
       "60.0"
      ]
     },
     "execution_count": 34,
     "metadata": {},
     "output_type": "execute_result"
    }
   ],
   "source": [
    "#What is the percentage of people who have a Bachelor's degree?\n",
    "percentage_bachelor=df[df['education']=='Bachelors'].shape[0]/df.shape[0]*100\n",
    "percentage_bachelor"
   ]
  },
  {
   "cell_type": "code",
   "execution_count": 36,
   "id": "4916a3ec",
   "metadata": {},
   "outputs": [
    {
     "data": {
      "text/html": [
       "<div>\n",
       "<style scoped>\n",
       "    .dataframe tbody tr th:only-of-type {\n",
       "        vertical-align: middle;\n",
       "    }\n",
       "\n",
       "    .dataframe tbody tr th {\n",
       "        vertical-align: top;\n",
       "    }\n",
       "\n",
       "    .dataframe thead th {\n",
       "        text-align: right;\n",
       "    }\n",
       "</style>\n",
       "<table border=\"1\" class=\"dataframe\">\n",
       "  <thead>\n",
       "    <tr style=\"text-align: right;\">\n",
       "      <th></th>\n",
       "      <th>age</th>\n",
       "      <th>Work Class</th>\n",
       "      <th>fnlwgt</th>\n",
       "      <th>education</th>\n",
       "      <th>education-num</th>\n",
       "      <th>material-status</th>\n",
       "      <th>occupation</th>\n",
       "      <th>relationship</th>\n",
       "      <th>race</th>\n",
       "      <th>sex</th>\n",
       "      <th>capital-gain</th>\n",
       "      <th>capital-loss</th>\n",
       "      <th>hours-per-week</th>\n",
       "      <th>native-country</th>\n",
       "      <th>Salary</th>\n",
       "    </tr>\n",
       "  </thead>\n",
       "  <tbody>\n",
       "    <tr>\n",
       "      <th>2</th>\n",
       "      <td>38</td>\n",
       "      <td>Private</td>\n",
       "      <td>215646</td>\n",
       "      <td>HS-grade</td>\n",
       "      <td>9</td>\n",
       "      <td>Divorced</td>\n",
       "      <td>Handlers-cleaners</td>\n",
       "      <td>Not-in-family</td>\n",
       "      <td>White</td>\n",
       "      <td>Male</td>\n",
       "      <td>0</td>\n",
       "      <td>0</td>\n",
       "      <td>40</td>\n",
       "      <td>United-States</td>\n",
       "      <td>&lt;=50K</td>\n",
       "    </tr>\n",
       "    <tr>\n",
       "      <th>3</th>\n",
       "      <td>53</td>\n",
       "      <td>Private</td>\n",
       "      <td>234721</td>\n",
       "      <td>11th</td>\n",
       "      <td>7</td>\n",
       "      <td>Married-civ-spouse</td>\n",
       "      <td>Handlers-cleaners</td>\n",
       "      <td>Husband</td>\n",
       "      <td>Black</td>\n",
       "      <td>Male</td>\n",
       "      <td>0</td>\n",
       "      <td>0</td>\n",
       "      <td>40</td>\n",
       "      <td>United-States</td>\n",
       "      <td>&lt;=50K</td>\n",
       "    </tr>\n",
       "  </tbody>\n",
       "</table>\n",
       "</div>"
      ],
      "text/plain": [
       "   age Work Class  fnlwgt education  education-num     material-status  \\\n",
       "2   38    Private  215646  HS-grade              9            Divorced   \n",
       "3   53    Private  234721      11th              7  Married-civ-spouse   \n",
       "\n",
       "          occupation   relationship   race   sex  capital-gain  capital-loss  \\\n",
       "2  Handlers-cleaners  Not-in-family  White  Male             0             0   \n",
       "3  Handlers-cleaners        Husband  Black  Male             0             0   \n",
       "\n",
       "   hours-per-week native-country Salary  \n",
       "2              40  United-States  <=50K  \n",
       "3              40  United-States  <=50K  "
      ]
     },
     "execution_count": 36,
     "metadata": {},
     "output_type": "execute_result"
    }
   ],
   "source": [
    "#What percentage of people with advanced education (Bachelors, Masters, or Doctorate) make more than 50K?\n",
    "higher_education = df[df['education'].isin(['Bachelors', 'Masters', 'Doctorate'])]\n",
    "lower_education = df[~df['education'].isin(['Bachelors', 'Masters', 'Doctorate'])]\n",
    "higher_education\n",
    "lower_education"
   ]
  },
  {
   "cell_type": "code",
   "execution_count": 39,
   "id": "ad09b61c",
   "metadata": {},
   "outputs": [
    {
     "data": {
      "text/plain": [
       "0.0"
      ]
     },
     "execution_count": 39,
     "metadata": {},
     "output_type": "execute_result"
    }
   ],
   "source": [
    "#What percentage of people without advanced education make more than 50K?\n",
    "higher_education_rich = higher_education[higher_education['Salary'] == '>50K']['Salary'].count() / higher_education.shape[0] * 100\n",
    "lower_education_rich = lower_education[lower_education['Salary'] == '<50K']['Salary'].count() / lower_education.shape[0] * 100\n",
    "higher_education_rich\n",
    "lower_education_rich"
   ]
  },
  {
   "cell_type": "code",
   "execution_count": 40,
   "id": "dddc39b7",
   "metadata": {},
   "outputs": [
    {
     "data": {
      "text/plain": [
       "13"
      ]
     },
     "execution_count": 40,
     "metadata": {},
     "output_type": "execute_result"
    }
   ],
   "source": [
    "#What is the minimum number of hours a person works per week?\n",
    "min_work_hours = df['hours-per-week'].min()\n",
    "min_work_hours"
   ]
  },
  {
   "cell_type": "code",
   "execution_count": 44,
   "id": "e220223b",
   "metadata": {
    "scrolled": true
   },
   "outputs": [
    {
     "name": "stderr",
     "output_type": "stream",
     "text": [
      "C:\\Users\\thani\\AppData\\Local\\Temp/ipykernel_16648/1223993542.py:3: RuntimeWarning: invalid value encountered in longlong_scalars\n",
      "  rich_percentage = df[(df['hours-per-week'] == 1) & (df['Salary'] == '>50K')].shape[0] / num_min_workers\n"
     ]
    },
    {
     "data": {
      "text/plain": [
       "nan"
      ]
     },
     "execution_count": 44,
     "metadata": {},
     "output_type": "execute_result"
    }
   ],
   "source": [
    "#What percentage of the people who work the minimum number of hours per week have a salary of more than 50K?\n",
    "num_min_workers = df[df['hours-per-week'] == 1]['hours-per-week'].count()\n",
    "rich_percentage = df[(df['hours-per-week'] == 1) & (df['Salary'] == '>50K')].shape[0] / num_min_workers\n",
    "num_min_workers\n",
    "rich_percentage"
   ]
  },
  {
   "cell_type": "code",
   "execution_count": 46,
   "id": "b1bb32ea",
   "metadata": {
    "scrolled": true
   },
   "outputs": [
    {
     "data": {
      "text/plain": [
       "nan"
      ]
     },
     "execution_count": 46,
     "metadata": {},
     "output_type": "execute_result"
    }
   ],
   "source": [
    "# What country has the highest percentage of people that earn >50K?\n",
    "highest_earning_country = df[df['Salary'] == '>50K'].groupby('native-country')['native-country'].count().max()\n",
    "highest_earning_country_percentage = (highest_earning_country / df.groupby('native-country')['native-country'].count()).max()\n",
    "highest_earning_country\n",
    "highest_earning_country_percentage"
   ]
  },
  {
   "cell_type": "code",
   "execution_count": 48,
   "id": "bd39a147",
   "metadata": {},
   "outputs": [
    {
     "data": {
      "text/plain": [
       "nan"
      ]
     },
     "execution_count": 48,
     "metadata": {},
     "output_type": "execute_result"
    }
   ],
   "source": [
    "# Identify the most popular occupation for those who earn >50K in India.\n",
    "top_IN_occupation = df[(df['native-country'] == 'India') & (df['Salary'] == '>50K')].groupby('occupation')['occupation'].count().max()\n",
    "top_IN_occupation"
   ]
  },
  {
   "cell_type": "markdown",
   "id": "5bda4c4e",
   "metadata": {},
   "source": [
    "# medical_data_visualizer"
   ]
  },
  {
   "cell_type": "code",
   "execution_count": 60,
   "id": "5a6889eb",
   "metadata": {},
   "outputs": [
    {
     "data": {
      "text/html": [
       "<div>\n",
       "<style scoped>\n",
       "    .dataframe tbody tr th:only-of-type {\n",
       "        vertical-align: middle;\n",
       "    }\n",
       "\n",
       "    .dataframe tbody tr th {\n",
       "        vertical-align: top;\n",
       "    }\n",
       "\n",
       "    .dataframe thead th {\n",
       "        text-align: right;\n",
       "    }\n",
       "</style>\n",
       "<table border=\"1\" class=\"dataframe\">\n",
       "  <thead>\n",
       "    <tr style=\"text-align: right;\">\n",
       "      <th></th>\n",
       "      <th>id</th>\n",
       "      <th>age</th>\n",
       "      <th>gender</th>\n",
       "      <th>height</th>\n",
       "      <th>weight</th>\n",
       "      <th>ap_hi</th>\n",
       "      <th>ap_lo</th>\n",
       "      <th>cholesterol</th>\n",
       "      <th>gluc</th>\n",
       "      <th>smoke</th>\n",
       "      <th>alco</th>\n",
       "      <th>active</th>\n",
       "      <th>cardio</th>\n",
       "    </tr>\n",
       "  </thead>\n",
       "  <tbody>\n",
       "    <tr>\n",
       "      <th>0</th>\n",
       "      <td>0</td>\n",
       "      <td>18393</td>\n",
       "      <td>2</td>\n",
       "      <td>168</td>\n",
       "      <td>62</td>\n",
       "      <td>110</td>\n",
       "      <td>80</td>\n",
       "      <td>1</td>\n",
       "      <td>1</td>\n",
       "      <td>0</td>\n",
       "      <td>0</td>\n",
       "      <td>1</td>\n",
       "      <td>0</td>\n",
       "    </tr>\n",
       "    <tr>\n",
       "      <th>1</th>\n",
       "      <td>1</td>\n",
       "      <td>20228</td>\n",
       "      <td>1</td>\n",
       "      <td>156</td>\n",
       "      <td>85</td>\n",
       "      <td>140</td>\n",
       "      <td>90</td>\n",
       "      <td>3</td>\n",
       "      <td>1</td>\n",
       "      <td>0</td>\n",
       "      <td>0</td>\n",
       "      <td>1</td>\n",
       "      <td>1</td>\n",
       "    </tr>\n",
       "    <tr>\n",
       "      <th>2</th>\n",
       "      <td>2</td>\n",
       "      <td>18857</td>\n",
       "      <td>1</td>\n",
       "      <td>165</td>\n",
       "      <td>64</td>\n",
       "      <td>130</td>\n",
       "      <td>70</td>\n",
       "      <td>3</td>\n",
       "      <td>1</td>\n",
       "      <td>0</td>\n",
       "      <td>0</td>\n",
       "      <td>0</td>\n",
       "      <td>1</td>\n",
       "    </tr>\n",
       "    <tr>\n",
       "      <th>3</th>\n",
       "      <td>3</td>\n",
       "      <td>17623</td>\n",
       "      <td>2</td>\n",
       "      <td>169</td>\n",
       "      <td>82</td>\n",
       "      <td>150</td>\n",
       "      <td>100</td>\n",
       "      <td>1</td>\n",
       "      <td>1</td>\n",
       "      <td>0</td>\n",
       "      <td>0</td>\n",
       "      <td>1</td>\n",
       "      <td>1</td>\n",
       "    </tr>\n",
       "    <tr>\n",
       "      <th>4</th>\n",
       "      <td>4</td>\n",
       "      <td>17474</td>\n",
       "      <td>1</td>\n",
       "      <td>156</td>\n",
       "      <td>56</td>\n",
       "      <td>100</td>\n",
       "      <td>60</td>\n",
       "      <td>1</td>\n",
       "      <td>1</td>\n",
       "      <td>0</td>\n",
       "      <td>0</td>\n",
       "      <td>0</td>\n",
       "      <td>0</td>\n",
       "    </tr>\n",
       "  </tbody>\n",
       "</table>\n",
       "</div>"
      ],
      "text/plain": [
       "   id    age  gender  height  weight  ap_hi  ap_lo  cholesterol  gluc  smoke  \\\n",
       "0   0  18393       2     168      62    110     80            1     1      0   \n",
       "1   1  20228       1     156      85    140     90            3     1      0   \n",
       "2   2  18857       1     165      64    130     70            3     1      0   \n",
       "3   3  17623       2     169      82    150    100            1     1      0   \n",
       "4   4  17474       1     156      56    100     60            1     1      0   \n",
       "\n",
       "   alco  active  cardio  \n",
       "0     0       1       0  \n",
       "1     0       1       1  \n",
       "2     0       0       1  \n",
       "3     0       1       1  \n",
       "4     0       0       0  "
      ]
     },
     "execution_count": 60,
     "metadata": {},
     "output_type": "execute_result"
    }
   ],
   "source": [
    "df=pd.read_csv('medical_examination.csv')\n",
    "df.head()"
   ]
  },
  {
   "cell_type": "markdown",
   "id": "1b0bd595",
   "metadata": {},
   "source": [
    "We add the 'overweight' column, where we set values 0 or 1, if the pacient is not overweight (0) or if it is overweight (1). It looks in the following way."
   ]
  },
  {
   "cell_type": "code",
   "execution_count": 62,
   "id": "d528ff52",
   "metadata": {},
   "outputs": [
    {
     "data": {
      "text/html": [
       "<div>\n",
       "<style scoped>\n",
       "    .dataframe tbody tr th:only-of-type {\n",
       "        vertical-align: middle;\n",
       "    }\n",
       "\n",
       "    .dataframe tbody tr th {\n",
       "        vertical-align: top;\n",
       "    }\n",
       "\n",
       "    .dataframe thead th {\n",
       "        text-align: right;\n",
       "    }\n",
       "</style>\n",
       "<table border=\"1\" class=\"dataframe\">\n",
       "  <thead>\n",
       "    <tr style=\"text-align: right;\">\n",
       "      <th></th>\n",
       "      <th>id</th>\n",
       "      <th>age</th>\n",
       "      <th>gender</th>\n",
       "      <th>height</th>\n",
       "      <th>weight</th>\n",
       "      <th>ap_hi</th>\n",
       "      <th>ap_lo</th>\n",
       "      <th>cholesterol</th>\n",
       "      <th>gluc</th>\n",
       "      <th>smoke</th>\n",
       "      <th>alco</th>\n",
       "      <th>active</th>\n",
       "      <th>cardio</th>\n",
       "      <th>overweight</th>\n",
       "    </tr>\n",
       "  </thead>\n",
       "  <tbody>\n",
       "    <tr>\n",
       "      <th>0</th>\n",
       "      <td>0</td>\n",
       "      <td>18393</td>\n",
       "      <td>2</td>\n",
       "      <td>168</td>\n",
       "      <td>62</td>\n",
       "      <td>110</td>\n",
       "      <td>80</td>\n",
       "      <td>1</td>\n",
       "      <td>1</td>\n",
       "      <td>0</td>\n",
       "      <td>0</td>\n",
       "      <td>1</td>\n",
       "      <td>0</td>\n",
       "      <td>0.0</td>\n",
       "    </tr>\n",
       "    <tr>\n",
       "      <th>1</th>\n",
       "      <td>1</td>\n",
       "      <td>20228</td>\n",
       "      <td>1</td>\n",
       "      <td>156</td>\n",
       "      <td>85</td>\n",
       "      <td>140</td>\n",
       "      <td>90</td>\n",
       "      <td>3</td>\n",
       "      <td>1</td>\n",
       "      <td>0</td>\n",
       "      <td>0</td>\n",
       "      <td>1</td>\n",
       "      <td>1</td>\n",
       "      <td>1.0</td>\n",
       "    </tr>\n",
       "    <tr>\n",
       "      <th>2</th>\n",
       "      <td>2</td>\n",
       "      <td>18857</td>\n",
       "      <td>1</td>\n",
       "      <td>165</td>\n",
       "      <td>64</td>\n",
       "      <td>130</td>\n",
       "      <td>70</td>\n",
       "      <td>3</td>\n",
       "      <td>1</td>\n",
       "      <td>0</td>\n",
       "      <td>0</td>\n",
       "      <td>0</td>\n",
       "      <td>1</td>\n",
       "      <td>0.0</td>\n",
       "    </tr>\n",
       "    <tr>\n",
       "      <th>3</th>\n",
       "      <td>3</td>\n",
       "      <td>17623</td>\n",
       "      <td>2</td>\n",
       "      <td>169</td>\n",
       "      <td>82</td>\n",
       "      <td>150</td>\n",
       "      <td>100</td>\n",
       "      <td>1</td>\n",
       "      <td>1</td>\n",
       "      <td>0</td>\n",
       "      <td>0</td>\n",
       "      <td>1</td>\n",
       "      <td>1</td>\n",
       "      <td>1.0</td>\n",
       "    </tr>\n",
       "    <tr>\n",
       "      <th>4</th>\n",
       "      <td>4</td>\n",
       "      <td>17474</td>\n",
       "      <td>1</td>\n",
       "      <td>156</td>\n",
       "      <td>56</td>\n",
       "      <td>100</td>\n",
       "      <td>60</td>\n",
       "      <td>1</td>\n",
       "      <td>1</td>\n",
       "      <td>0</td>\n",
       "      <td>0</td>\n",
       "      <td>0</td>\n",
       "      <td>0</td>\n",
       "      <td>0.0</td>\n",
       "    </tr>\n",
       "  </tbody>\n",
       "</table>\n",
       "</div>"
      ],
      "text/plain": [
       "   id    age  gender  height  weight  ap_hi  ap_lo  cholesterol  gluc  smoke  \\\n",
       "0   0  18393       2     168      62    110     80            1     1      0   \n",
       "1   1  20228       1     156      85    140     90            3     1      0   \n",
       "2   2  18857       1     165      64    130     70            3     1      0   \n",
       "3   3  17623       2     169      82    150    100            1     1      0   \n",
       "4   4  17474       1     156      56    100     60            1     1      0   \n",
       "\n",
       "   alco  active  cardio  overweight  \n",
       "0     0       1       0         0.0  \n",
       "1     0       1       1         1.0  \n",
       "2     0       0       1         0.0  \n",
       "3     0       1       1         1.0  \n",
       "4     0       0       0         0.0  "
      ]
     },
     "execution_count": 62,
     "metadata": {},
     "output_type": "execute_result"
    }
   ],
   "source": [
    "height2Meters = (df['height']/100)*(df['height']/100)\n",
    "IMC = df['weight'] / height2Meters \n",
    "df.loc[IMC <= 25, 'overweight'] = 0 \n",
    "df.loc[IMC > 25, 'overweight'] = 1 \n",
    "df.head()"
   ]
  },
  {
   "cell_type": "markdown",
   "id": "0c196193",
   "metadata": {},
   "source": [
    "We also normalize the values of Cholesterol and Glucosa."
   ]
  },
  {
   "cell_type": "code",
   "execution_count": 63,
   "id": "d47fc1d5",
   "metadata": {},
   "outputs": [],
   "source": [
    "df.loc[df['cholesterol']==1, 'cholesterol'] = 0 \n",
    "df.loc[df['cholesterol']>1, 'cholesterol'] = 1 \n",
    "df.loc[df['gluc']==1, 'gluc'] = 0 \n",
    "df.loc[df['gluc']>1, 'gluc'] = 1"
   ]
  },
  {
   "cell_type": "markdown",
   "id": "52d3d30f",
   "metadata": {},
   "source": [
    "Now we will prepare the data frame in a long format, to plot by the different variables (diseases)."
   ]
  },
  {
   "cell_type": "code",
   "execution_count": 64,
   "id": "b32c9a13",
   "metadata": {},
   "outputs": [],
   "source": [
    "df_cat = pd.melt(df, id_vars=['cardio'], value_vars=['active','alco','cholesterol','gluc','overweight','smoke'])"
   ]
  },
  {
   "cell_type": "markdown",
   "id": "593b60e5",
   "metadata": {},
   "source": [
    "The count plot by different diseases for two different cardio values is the following:"
   ]
  },
  {
   "cell_type": "code",
   "execution_count": 65,
   "id": "c80c6f3a",
   "metadata": {},
   "outputs": [
    {
     "data": {
      "text/plain": [
       "<seaborn.axisgrid.FacetGrid at 0x165448409d0>"
      ]
     },
     "execution_count": 65,
     "metadata": {},
     "output_type": "execute_result"
    },
    {
     "data": {
      "image/png": "[encoded data removed]",
      "text/plain": [
       "<Figure size 772x360 with 2 Axes>"
      ]
     },
     "metadata": {
      "needs_background": "light"
     },
     "output_type": "display_data"
    }
   ],
   "source": [
    "sns.catplot(x='variable',col='cardio',hue='value',kind='count',data=df_cat)"
   ]
  },
  {
   "cell_type": "markdown",
   "id": "23542ece",
   "metadata": {},
   "source": [
    "We see that the most of the diseases are strongly correlated with 'heart disease' (cardio). Where Cholesterol and overweight the most dramatic cases. Now we will filter wrong data, especially those cases where the 'high value of blood pressure' is lower than the 'low value of blood pressure'. We also filter the height and weight values which are over the 97.5% and the data and below the 2.5% of the values, in order to avoid possible wrong data."
   ]
  },
  {
   "cell_type": "code",
   "execution_count": 66,
   "id": "670ca4d3",
   "metadata": {},
   "outputs": [],
   "source": [
    "df_filtered = df[(df['ap_lo'] <= df['ap_hi']) & (df['height'] >= df['height'].quantile(0.025)) & (df['height'] < df['height'].quantile(0.975)) & (df['weight'] >= df['weight'].quantile(0.025)) & (df['weight'] < df['weight'].quantile(0.975))]"
   ]
  },
  {
   "cell_type": "markdown",
   "id": "83969f6d",
   "metadata": {},
   "source": [
    "With this filtered data frame we create a correlation matrix, that gives the connection between differnet deseases."
   ]
  },
  {
   "cell_type": "code",
   "execution_count": 67,
   "id": "bf44e68a",
   "metadata": {},
   "outputs": [],
   "source": [
    "Corr = df_filtered.corr()"
   ]
  },
  {
   "cell_type": "markdown",
   "id": "9a3fb15c",
   "metadata": {},
   "source": [
    "Finally, we crate a heatmap whit the correlation matrix, that shows numerically which are the most correlated deseases."
   ]
  },
  {
   "cell_type": "code",
   "execution_count": 68,
   "id": "6de51bd0",
   "metadata": {},
   "outputs": [
    {
     "data": {
      "image/png": "[encoded data removed]",
      "text/plain": [
       "<Figure size 864x504 with 2 Axes>"
      ]
     },
     "metadata": {},
     "output_type": "display_data"
    }
   ],
   "source": [
    "mask = np.zeros_like(Corr)\n",
    "mask[np.triu_indices_from(mask)] = True\n",
    "with sns.axes_style(\"white\"):\n",
    "    f, fig = plt.subplots(figsize=(12, 7))\n",
    "    fig = sns.heatmap(Corr,vmin=0,vmax=.25,square=True,annot=True,linewidths=.5,fmt=\".1f\",mask=mask)\n"
   ]
  },
  {
   "cell_type": "markdown",
   "id": "6fd3d947",
   "metadata": {},
   "source": [
    "As we spect, the most correlated variables are: weight - overweight, gender - smoke, cholesterol - glucosa and gender - height."
   ]
  },
  {
   "cell_type": "markdown",
   "id": "1427a798",
   "metadata": {},
   "source": [
    "# Page View Time Series Visualizer"
   ]
  },
  {
   "cell_type": "code",
   "execution_count": 69,
   "id": "c8f7995b",
   "metadata": {},
   "outputs": [],
   "source": [
    "import matplotlib.pyplot as plt\n",
    "import pandas as pd\n",
    "import seaborn as sns\n",
    "import numpy as np\n",
    "from pandas.plotting import register_matplotlib_converters\n",
    "register_matplotlib_converters()\n",
    "\n",
    "# Import data (Make sure to parse dates. Consider setting index column to 'date'.)\n",
    "df = pd.read_csv('fcc-forum-pageviews.csv')\n",
    "df = df.set_index('date')\n",
    "# Clean data\n",
    "df = df[\n",
    "    (df['value'] >= (df['value'].quantile(0.025))) & \n",
    "    (df['value'] <= (df['value'].quantile(0.975)))   \n",
    "    ]\n",
    "df.index = pd.to_datetime(df.index)\n",
    "\n",
    "\n",
    "def draw_line_plot():\n",
    "    \n",
    "# Draw line plot\n",
    "    fig = plt.figure(figsize=(6, 3))\n",
    "    plt.plot(df.index, df['value'])\n",
    "    plt.title('Daily freeCodeCamp Forum Page Views 5/2016-12/2019')\n",
    "    plt.xlabel('Date')\n",
    "    plt.ylabel('Page Views')\n",
    "\n",
    "\n",
    "    # Save image and return fig (don't change this part)\n",
    "    fig.savefig('line_plot.png')\n",
    "    return fig\n",
    "\n",
    "def draw_bar_plot():\n",
    "    # Copy and modify data for monthly bar plot\n",
    "\n",
    "    # Draw bar plot\n",
    "\n",
    "    df_bar = df.copy()\n",
    "    df_bar['year'] = df_bar.index.year\n",
    "    df_bar['month'] = df_bar.index.month\n",
    "    cbar = df_bar.groupby([df.index.year, df.index.month],)['value'].agg(np.mean).rename_axis(['year', 'month'])\n",
    "    cbar = cbar.reset_index()\n",
    "\n",
    "    df_pivtab = pd.pivot_table(cbar,\n",
    "    values = 'value',\n",
    "    index = 'year',\n",
    "    columns = 'month')\n",
    "    ax = df_pivtab.plot(kind='bar')\n",
    "    fig = ax.get_figure()\n",
    "    fig.set_size_inches(2,2)\n",
    "    ax.set_xlabel('Years')\n",
    "    ax.set_ylabel('Average Page Views')\n",
    "    plt.legend(['January', 'February', 'March', 'April', 'May', 'June', 'July', 'August', 'September', 'October', 'November', 'December'], title = 'Months')\n",
    "\n",
    "    # Save image and return fig (don't change this part)\n",
    "    fig.savefig('bar_plot.png')\n",
    "    return fig\n",
    "\n",
    "def draw_box_plot():\n",
    "    # Prepare data for box plots (this part is done!)\n",
    "    df_box = df.copy()\n",
    "    df_box.reset_index(inplace=True)\n",
    "    df_box['year'] = [d.year for d in df_box.date]\n",
    "    df_box['month'] = [d.strftime('%b') for d in df_box.date]\n",
    "\n",
    "    # Draw box plots (using Seaborn)\n",
    "    df_box = df.copy()\n",
    "    df_box.reset_index(inplace=True)\n",
    "    df_box['year'] = [d.year for d in df_box.date]\n",
    "    df_box['month'] = [d.strftime('%b') for d in df_box.date]\n",
    "\n",
    "    fig,axis = plt.subplots(1,2)\n",
    "    fig.set_size_inches(4,2)\n",
    "    sns.boxplot(x = df_box['year'], y = df_box['value'], ax = axis[0]).set(xlabel='Year', ylabel='Page Views')\n",
    "    sns.boxplot(x = df_box['month'], y = df_box['value'], \n",
    "        order=['Jan', 'Feb', 'Mar', 'Apr', 'May', 'Jun', 'Jul', 'Aug', 'Sep', 'Oct','Nov', 'Dec'], \n",
    "        ax = axis[1]).set(xlabel='Month', ylabel='Page Views')\n",
    "    axis[0].set_title('Year-wise Box Plot (Trend)')\n",
    "    axis[1].set_title('Month-wise Box Plot (Seasonality)')\n",
    "\n",
    "\n",
    "\n",
    "\n",
    "    # Save image and return fig (don't change this part)\n",
    "    fig.savefig('box_plot.png')\n",
    "    return fig"
   ]
  },
  {
   "cell_type": "markdown",
   "id": "3a0a4ed1",
   "metadata": {},
   "source": [
    "\n",
    "# Sea Level Predictor"
   ]
  },
  {
   "cell_type": "code",
   "execution_count": 70,
   "id": "c645589e",
   "metadata": {},
   "outputs": [],
   "source": [
    "import pandas as pd\n",
    "import matplotlib.pyplot as plt\n",
    "from scipy.stats import linregress\n",
    "import numpy as np\n",
    "\n",
    "def draw_plot():\n",
    "    # Read data from file\n",
    "    df = pd.read_csv('epa-sea-level.csv')\n",
    "\n",
    "    # Create scatter plot\n",
    "    plt.scatter(df['Year'], df['CSIRO Adjusted Sea Level'])\n",
    "\n",
    "    # Create first line of best fit\n",
    "    lineA = linregress(df['Year'], df['CSIRO Adjusted Sea Level'])\n",
    "    xA = np.arange(df['Year'].min(),2050,1)\n",
    "    yA = xA*lineA.slope + lineA.intercept\n",
    "\n",
    "    plt.plot(xA,yA)\n",
    "\n",
    "    # Create second line of best fit\n",
    "    df_2000 = df[df['Year'] >= 2000]\n",
    "\n",
    "    lineB = linregress(df_2000['Year'], df_2000['CSIRO Adjusted Sea Level'])\n",
    "    xB = np.arange(2000,2050,1)\n",
    "    yB = xB*lineB.slope + lineB.intercept\n",
    "\n",
    "    plt.plot(xB,yB)\n",
    "\n",
    "    # Add labels and title\n",
    "    plt.xlabel('Year')\n",
    "    plt.ylabel('Sea Level (inches)')\n",
    "    plt.title('Rise in Sea Level')\n",
    "    \n",
    "    # Save plot and return data for testing (DO NOT MODIFY)\n",
    "    plt.savefig('sea_level_plot.png')\n",
    "    return plt.gca()"
   ]
  },
  {
   "cell_type": "code",
   "execution_count": null,
   "id": "41a017e3",
   "metadata": {},
   "outputs": [],
   "source": [
    "\n",
    "    "
   ]
  },
  {
   "cell_type": "code",
   "execution_count": null,
   "id": "ce97c4c2",
   "metadata": {},
   "outputs": [],
   "source": []
  }
 ],
 "metadata": {
  "kernelspec": {
   "display_name": "Python 3 (ipykernel)",
   "language": "python",
   "name": "python3"
  },
  "language_info": {
   "codemirror_mode": {
    "name": "ipython",
    "version": 3
   },
   "file_extension": ".py",
   "mimetype": "text/x-python",
   "name": "python",
   "nbconvert_exporter": "python",
   "pygments_lexer": "ipython3",
   "version": "3.9.7"
  }
 },
 "nbformat": 4,
 "nbformat_minor": 5
}
